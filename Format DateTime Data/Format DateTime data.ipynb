{
 "cells": [
  {
   "cell_type": "code",
   "execution_count": 11,
   "metadata": {},
   "outputs": [],
   "source": [
    "import csv\n",
    "import pandas\n",
    "import numpy as np\n",
    "\n",
    "alldf\n",
    "for x in range(13,23):\n",
    "\n",
    "    # Use x as a way to get all CSV files from 2013 - 2022\n",
    "    df = pandas.read_csv('/Users/patrickmoll/Desktop/cis590data/6 - Rec Reservations/Facility Reservations 20' + str(x) + '.csv', parse_dates=['Begin Date', 'End Date'])\n",
    "\n",
    "    # Combining time and date columns\n",
    "    df['BeginTimeDate'] = df['BeginTime'] + \" \" + (df['Begin Date']).astype(str)\n",
    "    df['EndTimeDate'] = df['EndTime'] + \" \" + (df['End Date']).astype(str)\n",
    "    # Converting this time and date to datetime object\n",
    "    df['BeginTimeDate'] = pandas.to_datetime(df['BeginTimeDate'], errors='coerce')\n",
    "    df['EndTimeDate'] = pandas.to_datetime(df['EndTimeDate'], errors='coerce')\n",
    "    # Getting the length of each reservation in minutes\n",
    "    df['Duration Minutes'] = (df['EndTimeDate'] - df['BeginTimeDate']).dt.total_seconds() / 60\n",
    "    # These columns are redundant now\n",
    "    df = df.drop(['BeginTime', 'EndTime', 'Begin Date', 'End Date'], axis=1)\n",
    "    # This function is needed for times that start/end at midnight, the days are off resulting in negative duration\n",
    "    df['Duration Minutes'] = df['Duration Minutes'].apply(lambda x: x + 1440.0 if x < 0 else x)\n",
    "    df['Duration Minutes'] = df['Duration Minutes'].round(0)\n",
    "    #Convert outliers to NaN to get accurate mean and stdev\n",
    "    df['Headcount'].replace([0,9999], np.nan, inplace=True)\n",
    "    headcount_mean = df[\"Headcount\"].mean()\n",
    "    \n",
    "    #Place mean in for missing values\n",
    "    df['Headcount'].replace(np.nan, headcount_mean, inplace=True)\n",
    "    #Get numerical values for weekday and month\n",
    "    df['Weekday'] = df['BeginTimeDate'].dt.dayofweek\n",
    "    df['Month'] = df['BeginTimeDate'].dt.month\n",
    "    #Put time in decimal format for easier classification\n",
    "    df['BeginTime'] = (df['BeginTimeDate'].dt.hour) + (df['BeginTimeDate'].dt.minute) / 60\n",
    "\n",
    "    #outputting to new CSV files\n",
    "    df.to_csv('/Users/patrickmoll/Desktop/cis590data/DateTimeCleanedData/DateTimeCleaned Reservations 20' + str(x) + '.csv', index=False)\n",
    "    \n"
   ]
  },
  {
   "cell_type": "code",
   "execution_count": null,
   "metadata": {},
   "outputs": [],
   "source": []
  }
 ],
 "metadata": {
  "kernelspec": {
   "display_name": "Python 3 (ipykernel)",
   "language": "python",
   "name": "python3"
  },
  "language_info": {
   "codemirror_mode": {
    "name": "ipython",
    "version": 3
   },
   "file_extension": ".py",
   "mimetype": "text/x-python",
   "name": "python",
   "nbconvert_exporter": "python",
   "pygments_lexer": "ipython3",
   "version": "3.9.12"
  },
  "vscode": {
   "interpreter": {
    "hash": "b0fa6594d8f4cbf19f97940f81e996739fb7646882a419484c72d19e05852a7e"
   }
  }
 },
 "nbformat": 4,
 "nbformat_minor": 2
}
