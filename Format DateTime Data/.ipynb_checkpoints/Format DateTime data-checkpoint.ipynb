{
 "cells": [
  {
   "cell_type": "code",
   "execution_count": 32,
   "metadata": {},
   "outputs": [],
   "source": [
    "import csv\n",
    "import pandas\n",
    "\n",
    "for x in range(13,23):\n",
    "\n",
    "    # Use x as a way to get all CSV files from 2013 - 2022\n",
    "    df = pandas.read_csv('/Users/patrickmoll/Documents/cis590data/6 - Rec Reservations/Facility Reservations 20' + str(x) + '.csv', parse_dates=['Begin Date', 'End Date'])\n",
    "\n",
    "    # Combining time and date columns\n",
    "    df['BeginTimeDate'] = df['BeginTime'] + \" \" + (df['Begin Date']).astype(str)\n",
    "    df['EndTimeDate'] = df['EndTime'] + \" \" + (df['End Date']).astype(str)\n",
    "    # Converting this time and date to datetime object\n",
    "    df['BeginTimeDate'] = pandas.to_datetime(df['BeginTimeDate'], errors='coerce')\n",
    "    df['EndTimeDate'] = pandas.to_datetime(df['EndTimeDate'], errors='coerce')\n",
    "    # Getting the length of each reservation in minutes\n",
    "    df['Duration Minutes'] = (df['EndTimeDate'] - df['BeginTimeDate']).dt.total_seconds() / 60\n",
    "    # These columns are redundant now\n",
    "    df = df.drop(['BeginTime', 'EndTime', 'Begin Date', 'End Date'], axis=1)\n",
    "    # This function is needed for times that start/end at midnight, the days are off resulting in negative duration\n",
    "    df['Duration Minutes'] = df['Duration Minutes'].apply(lambda x: x + 1440.0 if x < 0 else x)\n",
    "    df['Duration Minutes'] = df['Duration Minutes'].round(0)\n",
    "    #outputting to new CSV files\n",
    "    df.to_csv('/Users/patrickmoll/Documents/cis590data/DateTimeCleanedData/DateTimeCleaned Reservations 20' + str(x) + '.csv', index=False)\n"
   ]
  },
  {
   "cell_type": "code",
   "execution_count": null,
   "metadata": {},
   "outputs": [],
   "source": []
  }
 ],
 "metadata": {
  "kernelspec": {
   "display_name": "Python 3 (ipykernel)",
   "language": "python",
   "name": "python3"
  },
  "language_info": {
   "codemirror_mode": {
    "name": "ipython",
    "version": 3
   },
   "file_extension": ".py",
   "mimetype": "text/x-python",
   "name": "python",
   "nbconvert_exporter": "python",
   "pygments_lexer": "ipython3",
   "version": "3.9.12"
  },
  "vscode": {
   "interpreter": {
    "hash": "b0fa6594d8f4cbf19f97940f81e996739fb7646882a419484c72d19e05852a7e"
   }
  }
 },
 "nbformat": 4,
 "nbformat_minor": 2
}
