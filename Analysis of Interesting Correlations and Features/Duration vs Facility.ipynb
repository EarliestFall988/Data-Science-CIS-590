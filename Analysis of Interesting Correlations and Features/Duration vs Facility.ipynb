{
 "cells": [
  {
   "cell_type": "code",
   "execution_count": 60,
   "id": "6d7d55a4",
   "metadata": {},
   "outputs": [],
   "source": [
    "#Import packages\n",
    "import csv\n",
    "import pandas as pd\n",
    "import numpy as np\n",
    "import matplotlib as mpl\n",
    "import matplotlib.pyplot as plt\n",
    "import seaborn as sns\n",
    "import scipy.stats as stats\n",
    "\n",
    "# Generate a list of colors based on the \"bright\" color scheme\n",
    "colors = sns.color_palette('bright', n_colors=12)"
   ]
  },
  {
   "cell_type": "code",
   "execution_count": 89,
   "id": "35f6e7fd",
   "metadata": {},
   "outputs": [
    {
     "data": {
      "text/html": [
       "<div>\n",
       "<style scoped>\n",
       "    .dataframe tbody tr th:only-of-type {\n",
       "        vertical-align: middle;\n",
       "    }\n",
       "\n",
       "    .dataframe tbody tr th {\n",
       "        vertical-align: top;\n",
       "    }\n",
       "\n",
       "    .dataframe thead th {\n",
       "        text-align: right;\n",
       "    }\n",
       "</style>\n",
       "<table border=\"1\" class=\"dataframe\">\n",
       "  <thead>\n",
       "    <tr style=\"text-align: right;\">\n",
       "      <th></th>\n",
       "      <th>Facility Class</th>\n",
       "      <th>Facility Location</th>\n",
       "      <th>Facility Code</th>\n",
       "      <th>Facility</th>\n",
       "      <th>Status</th>\n",
       "      <th>Reservation Type</th>\n",
       "      <th>Headcount</th>\n",
       "      <th>BeginTimeDate</th>\n",
       "      <th>EndTimeDate</th>\n",
       "      <th>Duration Minutes</th>\n",
       "      <th>Weekday</th>\n",
       "      <th>Month</th>\n",
       "      <th>Year</th>\n",
       "      <th>BeginTime</th>\n",
       "    </tr>\n",
       "  </thead>\n",
       "  <tbody>\n",
       "    <tr>\n",
       "      <th>0</th>\n",
       "      <td>BDEF</td>\n",
       "      <td>CARN</td>\n",
       "      <td>CAREF</td>\n",
       "      <td>Entire Facility</td>\n",
       "      <td>Firm</td>\n",
       "      <td>Facility</td>\n",
       "      <td>100.000000</td>\n",
       "      <td>1/6/13 9:00</td>\n",
       "      <td>1/6/13 12:30</td>\n",
       "      <td>210</td>\n",
       "      <td>6</td>\n",
       "      <td>1</td>\n",
       "      <td>2013</td>\n",
       "      <td>9.0</td>\n",
       "    </tr>\n",
       "    <tr>\n",
       "      <th>1</th>\n",
       "      <td>BDMUL</td>\n",
       "      <td>CARN</td>\n",
       "      <td>HRTG</td>\n",
       "      <td>Heritage Room l</td>\n",
       "      <td>Firm</td>\n",
       "      <td>Facility</td>\n",
       "      <td>100.000000</td>\n",
       "      <td>1/6/13 17:00</td>\n",
       "      <td>1/6/13 23:00</td>\n",
       "      <td>360</td>\n",
       "      <td>6</td>\n",
       "      <td>1</td>\n",
       "      <td>2013</td>\n",
       "      <td>17.0</td>\n",
       "    </tr>\n",
       "    <tr>\n",
       "      <th>2</th>\n",
       "      <td>BDMUL</td>\n",
       "      <td>CARN</td>\n",
       "      <td>HRTG</td>\n",
       "      <td>Heritage Room l</td>\n",
       "      <td>Firm</td>\n",
       "      <td>Activity</td>\n",
       "      <td>36.387374</td>\n",
       "      <td>1/7/13 17:30</td>\n",
       "      <td>1/7/13 18:25</td>\n",
       "      <td>55</td>\n",
       "      <td>0</td>\n",
       "      <td>1</td>\n",
       "      <td>2013</td>\n",
       "      <td>17.5</td>\n",
       "    </tr>\n",
       "    <tr>\n",
       "      <th>3</th>\n",
       "      <td>BDMUL</td>\n",
       "      <td>CARN</td>\n",
       "      <td>HRTG</td>\n",
       "      <td>Heritage Room l</td>\n",
       "      <td>Firm</td>\n",
       "      <td>Activity</td>\n",
       "      <td>36.387374</td>\n",
       "      <td>1/9/13 17:30</td>\n",
       "      <td>1/9/13 18:25</td>\n",
       "      <td>55</td>\n",
       "      <td>2</td>\n",
       "      <td>1</td>\n",
       "      <td>2013</td>\n",
       "      <td>17.5</td>\n",
       "    </tr>\n",
       "    <tr>\n",
       "      <th>4</th>\n",
       "      <td>BDMUL</td>\n",
       "      <td>CARN</td>\n",
       "      <td>HRTG</td>\n",
       "      <td>Heritage Room l</td>\n",
       "      <td>Firm</td>\n",
       "      <td>Activity</td>\n",
       "      <td>36.387374</td>\n",
       "      <td>1/9/13 19:00</td>\n",
       "      <td>1/9/13 20:15</td>\n",
       "      <td>75</td>\n",
       "      <td>2</td>\n",
       "      <td>1</td>\n",
       "      <td>2013</td>\n",
       "      <td>19.0</td>\n",
       "    </tr>\n",
       "  </tbody>\n",
       "</table>\n",
       "</div>"
      ],
      "text/plain": [
       "  Facility Class Facility Location Facility Code         Facility Status  \\\n",
       "0           BDEF              CARN         CAREF  Entire Facility   Firm   \n",
       "1          BDMUL              CARN          HRTG  Heritage Room l   Firm   \n",
       "2          BDMUL              CARN          HRTG  Heritage Room l   Firm   \n",
       "3          BDMUL              CARN          HRTG  Heritage Room l   Firm   \n",
       "4          BDMUL              CARN          HRTG  Heritage Room l   Firm   \n",
       "\n",
       "  Reservation Type   Headcount BeginTimeDate   EndTimeDate  Duration Minutes  \\\n",
       "0         Facility  100.000000   1/6/13 9:00  1/6/13 12:30               210   \n",
       "1         Facility  100.000000  1/6/13 17:00  1/6/13 23:00               360   \n",
       "2         Activity   36.387374  1/7/13 17:30  1/7/13 18:25                55   \n",
       "3         Activity   36.387374  1/9/13 17:30  1/9/13 18:25                55   \n",
       "4         Activity   36.387374  1/9/13 19:00  1/9/13 20:15                75   \n",
       "\n",
       "   Weekday  Month  Year  BeginTime  \n",
       "0        6      1  2013        9.0  \n",
       "1        6      1  2013       17.0  \n",
       "2        0      1  2013       17.5  \n",
       "3        2      1  2013       17.5  \n",
       "4        2      1  2013       19.0  "
      ]
     },
     "execution_count": 89,
     "metadata": {},
     "output_type": "execute_result"
    }
   ],
   "source": [
    "df = pd.read_csv('DateTimeCleanedReservationsAll.csv')\n",
    "df.head()"
   ]
  },
  {
   "cell_type": "code",
   "execution_count": 84,
   "id": "261b2df8",
   "metadata": {},
   "outputs": [],
   "source": [
    "sns.relplot(data=df, x=\"Duration Minutes\", y=\"Facility Class\")\n",
    "plt.savefig(\"relplot.pdf\", format=\"pdf\", bbox_inches=\"tight\")"
   ]
  },
  {
   "cell_type": "code",
   "execution_count": 90,
   "id": "583fa17f",
   "metadata": {},
   "outputs": [],
   "source": [
    "cols = ['Facility Class', 'Facility Location', 'Facility Code', 'Facility', 'Status', 'Reservation Type']\n",
    "df[cols] = df[cols].apply(lambda x: pd.factorize(x)[0])"
   ]
  },
  {
   "cell_type": "code",
   "execution_count": 92,
   "id": "09c41faf",
   "metadata": {},
   "outputs": [],
   "source": [
    "plt.close()\n",
    "sns.heatmap(df.corr()[[\"Duration Minutes\"]].sort_values(by=\"Duration Minutes\"), linewidths=1,annot=True)\n",
    "plt.savefig(\"MinutesCorrelation.pdf\", format=\"pdf\", bbox_inches=\"tight\")"
   ]
  },
  {
   "cell_type": "code",
   "execution_count": 81,
   "id": "161edbb2",
   "metadata": {},
   "outputs": [],
   "source": [
    "df['Size'] = df['Facility Class'].apply(lambda x: \"Entire Facility\" if x == \"BDEF\" else (\"Field\" if x == \"BDTRF\" else \"Single Room\"))"
   ]
  },
  {
   "cell_type": "code",
   "execution_count": 83,
   "id": "7d0cda74",
   "metadata": {},
   "outputs": [],
   "source": [
    "my_order = df.groupby(by=[\"Size\"])[\"Duration Minutes\"].median().index\n",
    "sns.boxplot(data=df, x='Size', y='Duration Minutes', order=my_order)\n",
    "plt.yscale(\"log\")\n",
    "plt.savefig(\"MinutesBoxPlot.pdf\", format=\"pdf\", bbox_inches=\"tight\")"
   ]
  },
  {
   "cell_type": "code",
   "execution_count": 85,
   "id": "4e8e39c6",
   "metadata": {},
   "outputs": [],
   "source": [
    "my_order = df.groupby(by=[\"Facility Location\"])[\"Duration Minutes\"].median().index\n",
    "sns.boxplot(data=df, x='Facility Location', y='Duration Minutes', order = my_order)\n",
    "plt.yscale(\"log\")\n",
    "plt.savefig(\"MinutesBoxPlot2.pdf\", format=\"pdf\", bbox_inches=\"tight\")"
   ]
  },
  {
   "cell_type": "code",
   "execution_count": 58,
   "id": "d8d13baf",
   "metadata": {},
   "outputs": [
    {
     "data": {
      "image/png": "[encoded data removed]",
      "text/plain": [
       "<Figure size 640x480 with 1 Axes>"
      ]
     },
     "metadata": {},
     "output_type": "display_data"
    }
   ],
   "source": [
    "my_order = df.groupby(by=[\"Facility Location\"])[\"Headcount\"].median().index\n",
    "sns.boxplot(data=df, x='Facility Location', y='Headcount', order = my_order)\n",
    "plt.yscale(\"log\")\n",
    "plt.show()"
   ]
  },
  {
   "cell_type": "code",
   "execution_count": null,
   "id": "626d9e1c",
   "metadata": {},
   "outputs": [],
   "source": []
  }
 ],
 "metadata": {
  "kernelspec": {
   "display_name": "Python 3 (ipykernel)",
   "language": "python",
   "name": "python3"
  },
  "language_info": {
   "codemirror_mode": {
    "name": "ipython",
    "version": 3
   },
   "file_extension": ".py",
   "mimetype": "text/x-python",
   "name": "python",
   "nbconvert_exporter": "python",
   "pygments_lexer": "ipython3",
   "version": "3.9.13"
  }
 },
 "nbformat": 4,
 "nbformat_minor": 5
}
