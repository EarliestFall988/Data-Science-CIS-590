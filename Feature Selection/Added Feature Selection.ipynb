{
 "cells": [
  {
   "cell_type": "code",
   "execution_count": 2,
   "id": "24ae1215",
   "metadata": {},
   "outputs": [],
   "source": [
    "import pandas as pd\n",
    "import numpy as np\n",
    "import matplotlib.pyplot as plt\n",
    "import seaborn as sns\n",
    "from sklearn.feature_selection import SelectKBest\n",
    "from sklearn.feature_selection import chi2"
   ]
  },
  {
   "cell_type": "code",
   "execution_count": 3,
   "id": "50d3febd",
   "metadata": {},
   "outputs": [
    {
     "data": {
      "text/html": [
       "<div>\n",
       "<style scoped>\n",
       "    .dataframe tbody tr th:only-of-type {\n",
       "        vertical-align: middle;\n",
       "    }\n",
       "\n",
       "    .dataframe tbody tr th {\n",
       "        vertical-align: top;\n",
       "    }\n",
       "\n",
       "    .dataframe thead th {\n",
       "        text-align: right;\n",
       "    }\n",
       "</style>\n",
       "<table border=\"1\" class=\"dataframe\">\n",
       "  <thead>\n",
       "    <tr style=\"text-align: right;\">\n",
       "      <th></th>\n",
       "      <th>Facility Class</th>\n",
       "      <th>Facility Location</th>\n",
       "      <th>Facility Code</th>\n",
       "      <th>Facility</th>\n",
       "      <th>Status</th>\n",
       "      <th>Reservation Type</th>\n",
       "      <th>Headcount</th>\n",
       "      <th>BeginTimeDate</th>\n",
       "      <th>EndTimeDate</th>\n",
       "      <th>Duration Minutes</th>\n",
       "      <th>Weekday</th>\n",
       "      <th>Month</th>\n",
       "      <th>Year</th>\n",
       "      <th>BeginTime</th>\n",
       "    </tr>\n",
       "  </thead>\n",
       "  <tbody>\n",
       "    <tr>\n",
       "      <th>0</th>\n",
       "      <td>BDEF</td>\n",
       "      <td>CARN</td>\n",
       "      <td>CAREF</td>\n",
       "      <td>Entire Facility</td>\n",
       "      <td>Firm</td>\n",
       "      <td>Facility</td>\n",
       "      <td>100.000000</td>\n",
       "      <td>1/6/13 9:00</td>\n",
       "      <td>1/6/13 12:30</td>\n",
       "      <td>210</td>\n",
       "      <td>6</td>\n",
       "      <td>1</td>\n",
       "      <td>2013</td>\n",
       "      <td>9.0</td>\n",
       "    </tr>\n",
       "    <tr>\n",
       "      <th>1</th>\n",
       "      <td>BDMUL</td>\n",
       "      <td>CARN</td>\n",
       "      <td>HRTG</td>\n",
       "      <td>Heritage Room l</td>\n",
       "      <td>Firm</td>\n",
       "      <td>Facility</td>\n",
       "      <td>100.000000</td>\n",
       "      <td>1/6/13 17:00</td>\n",
       "      <td>1/6/13 23:00</td>\n",
       "      <td>360</td>\n",
       "      <td>6</td>\n",
       "      <td>1</td>\n",
       "      <td>2013</td>\n",
       "      <td>17.0</td>\n",
       "    </tr>\n",
       "    <tr>\n",
       "      <th>2</th>\n",
       "      <td>BDMUL</td>\n",
       "      <td>CARN</td>\n",
       "      <td>HRTG</td>\n",
       "      <td>Heritage Room l</td>\n",
       "      <td>Firm</td>\n",
       "      <td>Activity</td>\n",
       "      <td>36.387374</td>\n",
       "      <td>1/7/13 17:30</td>\n",
       "      <td>1/7/13 18:25</td>\n",
       "      <td>55</td>\n",
       "      <td>0</td>\n",
       "      <td>1</td>\n",
       "      <td>2013</td>\n",
       "      <td>17.5</td>\n",
       "    </tr>\n",
       "    <tr>\n",
       "      <th>3</th>\n",
       "      <td>BDMUL</td>\n",
       "      <td>CARN</td>\n",
       "      <td>HRTG</td>\n",
       "      <td>Heritage Room l</td>\n",
       "      <td>Firm</td>\n",
       "      <td>Activity</td>\n",
       "      <td>36.387374</td>\n",
       "      <td>1/9/13 17:30</td>\n",
       "      <td>1/9/13 18:25</td>\n",
       "      <td>55</td>\n",
       "      <td>2</td>\n",
       "      <td>1</td>\n",
       "      <td>2013</td>\n",
       "      <td>17.5</td>\n",
       "    </tr>\n",
       "    <tr>\n",
       "      <th>4</th>\n",
       "      <td>BDMUL</td>\n",
       "      <td>CARN</td>\n",
       "      <td>HRTG</td>\n",
       "      <td>Heritage Room l</td>\n",
       "      <td>Firm</td>\n",
       "      <td>Activity</td>\n",
       "      <td>36.387374</td>\n",
       "      <td>1/9/13 19:00</td>\n",
       "      <td>1/9/13 20:15</td>\n",
       "      <td>75</td>\n",
       "      <td>2</td>\n",
       "      <td>1</td>\n",
       "      <td>2013</td>\n",
       "      <td>19.0</td>\n",
       "    </tr>\n",
       "  </tbody>\n",
       "</table>\n",
       "</div>"
      ],
      "text/plain": [
       "  Facility Class Facility Location Facility Code         Facility Status  \\\n",
       "0           BDEF              CARN         CAREF  Entire Facility   Firm   \n",
       "1          BDMUL              CARN          HRTG  Heritage Room l   Firm   \n",
       "2          BDMUL              CARN          HRTG  Heritage Room l   Firm   \n",
       "3          BDMUL              CARN          HRTG  Heritage Room l   Firm   \n",
       "4          BDMUL              CARN          HRTG  Heritage Room l   Firm   \n",
       "\n",
       "  Reservation Type   Headcount BeginTimeDate   EndTimeDate  Duration Minutes  \\\n",
       "0         Facility  100.000000   1/6/13 9:00  1/6/13 12:30               210   \n",
       "1         Facility  100.000000  1/6/13 17:00  1/6/13 23:00               360   \n",
       "2         Activity   36.387374  1/7/13 17:30  1/7/13 18:25                55   \n",
       "3         Activity   36.387374  1/9/13 17:30  1/9/13 18:25                55   \n",
       "4         Activity   36.387374  1/9/13 19:00  1/9/13 20:15                75   \n",
       "\n",
       "   Weekday  Month  Year  BeginTime  \n",
       "0        6      1  2013        9.0  \n",
       "1        6      1  2013       17.0  \n",
       "2        0      1  2013       17.5  \n",
       "3        2      1  2013       17.5  \n",
       "4        2      1  2013       19.0  "
      ]
     },
     "execution_count": 3,
     "metadata": {},
     "output_type": "execute_result"
    }
   ],
   "source": [
    "df = pd.read_csv('/Users/rschm/Downloads/DateTimeCleanedReservationsAll.csv')\n",
    "df.head()"
   ]
  },
  {
   "cell_type": "code",
   "execution_count": 4,
   "id": "94c7d0df",
   "metadata": {},
   "outputs": [],
   "source": [
    "#We do not need the full date time objects\n",
    "df = df.drop(columns=['BeginTimeDate', 'EndTimeDate'])\n",
    "# Convert categorical variables using factorize\n",
    "cols = ['Facility Class', 'Facility Location', 'Facility Code', 'Facility', 'Status', 'Reservation Type']\n",
    "df[cols] = df[cols].apply(lambda x: pd.factorize(x)[0])"
   ]
  },
  {
   "cell_type": "code",
   "execution_count": 5,
   "id": "00b472f6",
   "metadata": {},
   "outputs": [
    {
     "data": {
      "text/html": [
       "<div>\n",
       "<style scoped>\n",
       "    .dataframe tbody tr th:only-of-type {\n",
       "        vertical-align: middle;\n",
       "    }\n",
       "\n",
       "    .dataframe tbody tr th {\n",
       "        vertical-align: top;\n",
       "    }\n",
       "\n",
       "    .dataframe thead th {\n",
       "        text-align: right;\n",
       "    }\n",
       "</style>\n",
       "<table border=\"1\" class=\"dataframe\">\n",
       "  <thead>\n",
       "    <tr style=\"text-align: right;\">\n",
       "      <th></th>\n",
       "      <th>Facility Class</th>\n",
       "      <th>Facility Location</th>\n",
       "      <th>Facility Code</th>\n",
       "      <th>Facility</th>\n",
       "      <th>Status</th>\n",
       "      <th>Reservation Type</th>\n",
       "      <th>Headcount</th>\n",
       "      <th>Duration Minutes</th>\n",
       "      <th>Weekday</th>\n",
       "      <th>Month</th>\n",
       "      <th>Year</th>\n",
       "      <th>BeginTime</th>\n",
       "    </tr>\n",
       "  </thead>\n",
       "  <tbody>\n",
       "    <tr>\n",
       "      <th>0</th>\n",
       "      <td>0</td>\n",
       "      <td>0</td>\n",
       "      <td>0</td>\n",
       "      <td>0</td>\n",
       "      <td>0</td>\n",
       "      <td>0</td>\n",
       "      <td>100.000000</td>\n",
       "      <td>210</td>\n",
       "      <td>6</td>\n",
       "      <td>1</td>\n",
       "      <td>2013</td>\n",
       "      <td>9.0</td>\n",
       "    </tr>\n",
       "    <tr>\n",
       "      <th>1</th>\n",
       "      <td>1</td>\n",
       "      <td>0</td>\n",
       "      <td>1</td>\n",
       "      <td>1</td>\n",
       "      <td>0</td>\n",
       "      <td>0</td>\n",
       "      <td>100.000000</td>\n",
       "      <td>360</td>\n",
       "      <td>6</td>\n",
       "      <td>1</td>\n",
       "      <td>2013</td>\n",
       "      <td>17.0</td>\n",
       "    </tr>\n",
       "    <tr>\n",
       "      <th>2</th>\n",
       "      <td>1</td>\n",
       "      <td>0</td>\n",
       "      <td>1</td>\n",
       "      <td>1</td>\n",
       "      <td>0</td>\n",
       "      <td>1</td>\n",
       "      <td>36.387374</td>\n",
       "      <td>55</td>\n",
       "      <td>0</td>\n",
       "      <td>1</td>\n",
       "      <td>2013</td>\n",
       "      <td>17.5</td>\n",
       "    </tr>\n",
       "    <tr>\n",
       "      <th>3</th>\n",
       "      <td>1</td>\n",
       "      <td>0</td>\n",
       "      <td>1</td>\n",
       "      <td>1</td>\n",
       "      <td>0</td>\n",
       "      <td>1</td>\n",
       "      <td>36.387374</td>\n",
       "      <td>55</td>\n",
       "      <td>2</td>\n",
       "      <td>1</td>\n",
       "      <td>2013</td>\n",
       "      <td>17.5</td>\n",
       "    </tr>\n",
       "    <tr>\n",
       "      <th>4</th>\n",
       "      <td>1</td>\n",
       "      <td>0</td>\n",
       "      <td>1</td>\n",
       "      <td>1</td>\n",
       "      <td>0</td>\n",
       "      <td>1</td>\n",
       "      <td>36.387374</td>\n",
       "      <td>75</td>\n",
       "      <td>2</td>\n",
       "      <td>1</td>\n",
       "      <td>2013</td>\n",
       "      <td>19.0</td>\n",
       "    </tr>\n",
       "  </tbody>\n",
       "</table>\n",
       "</div>"
      ],
      "text/plain": [
       "   Facility Class  Facility Location  Facility Code  Facility  Status  \\\n",
       "0               0                  0              0         0       0   \n",
       "1               1                  0              1         1       0   \n",
       "2               1                  0              1         1       0   \n",
       "3               1                  0              1         1       0   \n",
       "4               1                  0              1         1       0   \n",
       "\n",
       "   Reservation Type   Headcount  Duration Minutes  Weekday  Month  Year  \\\n",
       "0                 0  100.000000               210        6      1  2013   \n",
       "1                 0  100.000000               360        6      1  2013   \n",
       "2                 1   36.387374                55        0      1  2013   \n",
       "3                 1   36.387374                55        2      1  2013   \n",
       "4                 1   36.387374                75        2      1  2013   \n",
       "\n",
       "   BeginTime  \n",
       "0        9.0  \n",
       "1       17.0  \n",
       "2       17.5  \n",
       "3       17.5  \n",
       "4       19.0  "
      ]
     },
     "execution_count": 5,
     "metadata": {},
     "output_type": "execute_result"
    }
   ],
   "source": [
    "df.head()"
   ]
  },
  {
   "cell_type": "code",
   "execution_count": 6,
   "id": "144be140",
   "metadata": {},
   "outputs": [
    {
     "data": {
      "text/plain": [
       "(array([3.50826009e+04, 3.78961697e+05, 3.92562466e+05, 1.18267587e+04,\n",
       "        1.79440547e+04, 3.20734397e+05, 3.58630106e+06, 6.90152087e+03,\n",
       "        4.28678443e+02, 1.71599084e+01, 4.61850366e+03]),\n",
       " array([0.00000000e+00, 0.00000000e+00, 0.00000000e+00, 0.00000000e+00,\n",
       "        0.00000000e+00, 0.00000000e+00, 0.00000000e+00, 0.00000000e+00,\n",
       "        6.41204070e-82, 3.09395312e-01, 0.00000000e+00]))"
      ]
     },
     "execution_count": 6,
     "metadata": {},
     "output_type": "execute_result"
    }
   ],
   "source": [
    "x=df.iloc[:, df.columns != 'Facility Class']  #Independent variable\n",
    "y=df.iloc[:, df.columns == 'Facility Class']   #Target variable\n",
    "f_score=chi2(x,y)   #returns f score and p value \n",
    "f_score"
   ]
  },
  {
   "cell_type": "code",
   "execution_count": 7,
   "id": "48feea02",
   "metadata": {},
   "outputs": [
    {
     "data": {
      "text/plain": [
       "(array([ 0,  1,  2,  3,  4,  5,  6,  7,  8,  9, 10]),\n",
       " [Text(0, 0, 'Facility Location'),\n",
       "  Text(1, 0, 'Facility Code'),\n",
       "  Text(2, 0, 'Facility'),\n",
       "  Text(3, 0, 'Status'),\n",
       "  Text(4, 0, 'Reservation Type'),\n",
       "  Text(5, 0, 'Headcount'),\n",
       "  Text(6, 0, 'Duration Minutes'),\n",
       "  Text(7, 0, 'Weekday'),\n",
       "  Text(8, 0, 'Month'),\n",
       "  Text(9, 0, 'Year'),\n",
       "  Text(10, 0, 'BeginTime')])"
      ]
     },
     "execution_count": 7,
     "metadata": {},
     "output_type": "execute_result"
    },
    {
     "data": {
      "image/png": "[encoded data removed]",
      "text/plain": [
       "<Figure size 720x720 with 1 Axes>"
      ]
     },
     "metadata": {
      "needs_background": "light"
     },
     "output_type": "display_data"
    }
   ],
   "source": [
    "x=df.iloc[:, df.columns != 'Facility Class']  #Independent variable\n",
    "y=df.iloc[:, df.columns == 'Facility Class']   #Target variable\n",
    "f_score, p_value = chi2(x, y)\n",
    "\n",
    "# create a DataFrame of f-scores\n",
    "df_fscore = pd.DataFrame({'features': x.columns, 'f_score': f_score})\n",
    "\n",
    "# plot the f-scores using a bar plot\n",
    "plt.figure(figsize=(10,10))\n",
    "sns.barplot(x='features', y='f_score', data=df_fscore)\n",
    "plt.title(\"F-Scores for Feature Selections\")\n",
    "plt.xticks(rotation=90)"
   ]
  },
  {
   "cell_type": "code",
   "execution_count": 8,
   "id": "512428df",
   "metadata": {},
   "outputs": [
    {
     "name": "stdout",
     "output_type": "stream",
     "text": [
      "Facility Location    378961.697268\n",
      "Facility Code        378961.697268\n",
      "Facility             378961.697268\n",
      "Status               378961.697268\n",
      "Reservation Type     378961.697268\n",
      "Headcount            378961.697268\n",
      "Duration Minutes     378961.697268\n",
      "Weekday              378961.697268\n",
      "Month                378961.697268\n",
      "Year                 378961.697268\n",
      "BeginTime            378961.697268\n",
      "dtype: float64\n"
     ]
    }
   ],
   "source": [
    "# printing p values for each categorical features\n",
    "p_value=pd.Series(f_score[1],index=x.columns)\n",
    "p_value.sort_values(ascending=True,inplace=True)\n",
    "print(p_value)"
   ]
  },
  {
   "cell_type": "code",
   "execution_count": 9,
   "id": "b9f576b6",
   "metadata": {},
   "outputs": [
    {
     "data": {
      "image/png": "[encoded data removed]",
      "text/plain": [
       "<Figure size 432x288 with 1 Axes>"
      ]
     },
     "metadata": {
      "needs_background": "light"
     },
     "output_type": "display_data"
    }
   ],
   "source": [
    "import matplotlib.pyplot as plt \n",
    "import seaborn as sns\n",
    "\n",
    "p_value.plot(kind=\"bar\")\n",
    "plt.xlabel(\"Features\",fontsize=20)\n",
    "plt.ylabel(\"p_values\",fontsize=20)\n",
    "plt.title(\"chi squared test base on p value\")\n",
    "plt.show()"
   ]
  },
  {
   "cell_type": "code",
   "execution_count": 10,
   "id": "e1b1683b",
   "metadata": {},
   "outputs": [
    {
     "name": "stdout",
     "output_type": "stream",
     "text": [
      "Facility Code         0.000000e+00\n",
      "Facility              0.000000e+00\n",
      "Status                0.000000e+00\n",
      "Headcount             0.000000e+00\n",
      "Duration Minutes      0.000000e+00\n",
      "Weekday               0.000000e+00\n",
      "Facility Location    4.525064e-207\n",
      "Facility Class        2.180652e-80\n",
      "BeginTime             5.223466e-27\n",
      "Month                 4.201561e-01\n",
      "Year                  8.238688e-01\n",
      "dtype: float64\n"
     ]
    }
   ],
   "source": [
    "x=df.iloc[:, df.columns != 'Reservation Type']  #Independent variable\n",
    "y=df.iloc[:, df.columns == 'Reservation Type']   #Target variable\n",
    "f_score=chi2(x,y)   #returns f score and p value \n",
    "# printing p values for each categorical features\n",
    "p_value=pd.Series(f_score[1],index=x.columns)\n",
    "p_value.sort_values(ascending=True,inplace=True)\n",
    "print(p_value)"
   ]
  },
  {
   "cell_type": "code",
   "execution_count": 11,
   "id": "0d36aea3",
   "metadata": {},
   "outputs": [
    {
     "data": {
      "text/plain": [
       "([0, 1, 2, 3, 4, 5, 6, 7, 8, 9, 10, 11],\n",
       " [Text(0, 0, ''),\n",
       "  Text(0, 0, ''),\n",
       "  Text(0, 0, ''),\n",
       "  Text(0, 0, ''),\n",
       "  Text(0, 0, ''),\n",
       "  Text(0, 0, ''),\n",
       "  Text(0, 0, ''),\n",
       "  Text(0, 0, ''),\n",
       "  Text(0, 0, ''),\n",
       "  Text(0, 0, ''),\n",
       "  Text(0, 0, ''),\n",
       "  Text(0, 0, '')])"
      ]
     },
     "execution_count": 11,
     "metadata": {},
     "output_type": "execute_result"
    },
    {
     "data": {
      "image/png": "[encoded data removed]",
      "text/plain": [
       "<Figure size 720x360 with 1 Axes>"
      ]
     },
     "metadata": {
      "needs_background": "light"
     },
     "output_type": "display_data"
    }
   ],
   "source": [
    "x=df.iloc[:, df.columns != 'Reservation Type']  #Independent variable\n",
    "y=df.iloc[:, df.columns == 'Reservation Type']   #Target variable\n",
    "f_score=chi2(x,y)   #returns f score and p value \n",
    "# printing p values for each categorical features\n",
    "p_value=pd.Series(f_score[1],index=x.columns)\n",
    "p_value.sort_values(ascending=True,inplace=True)\n",
    "\n",
    "# get the f-scores for all features\n",
    "f_score, _ = chi2(df, y)\n",
    "\n",
    "# create a bar chart of all features and their f-scores\n",
    "plt.figure(figsize=(10,5))\n",
    "plt.bar(df.columns, f_score)\n",
    "plt.xlabel('Features')\n",
    "plt.ylabel('F-Score')\n",
    "plt.title('Chi-Squared Test for Feature Selection')\n",
    "plt.xticks(rotation=90)\n"
   ]
  },
  {
   "cell_type": "code",
   "execution_count": 12,
   "id": "9c9c9486",
   "metadata": {},
   "outputs": [
    {
     "data": {
      "image/png": "[encoded data removed]",
      "text/plain": [
       "<Figure size 432x288 with 1 Axes>"
      ]
     },
     "metadata": {
      "needs_background": "light"
     },
     "output_type": "display_data"
    }
   ],
   "source": [
    "import matplotlib.pyplot as plt \n",
    "import seaborn as sns\n",
    "\n",
    "p_value.plot(kind=\"bar\")\n",
    "plt.xlabel(\"Features\",fontsize=20)\n",
    "plt.ylabel(\"p_values\",fontsize=20)\n",
    "plt.title(\"chi squared test base on p value\")\n",
    "plt.show()"
   ]
  },
  {
   "cell_type": "code",
   "execution_count": 13,
   "id": "fa20f076",
   "metadata": {},
   "outputs": [],
   "source": [
    "from sklearn.feature_selection import SelectKBest\n",
    "\n",
    "# for classification, we use these three\n",
    "from sklearn.feature_selection import chi2, f_classif, mutual_info_classif\n",
    "\n",
    "# this function will take in X, y variables \n",
    "# with criteria, and return a dataframe\n",
    "# with most important columns\n",
    "# based on that criteria\n",
    "def featureSelect_dataframe(X, y, criteria, k):\n",
    "\n",
    "    # initialize our function/method\n",
    "    reg = SelectKBest(criteria, k=k).fit(X,y)\n",
    "    \n",
    "    # transform after creating the reg (so we can use getsupport)\n",
    "    X_transformed = reg.transform(X)\n",
    "\n",
    "    # filter down X based on kept columns\n",
    "    X = X[[val for i,val in enumerate(X.columns) if reg.get_support()[i]]]\n",
    "\n",
    "    # return that dataframe\n",
    "    return X"
   ]
  },
  {
   "cell_type": "code",
   "execution_count": 14,
   "id": "051ed435",
   "metadata": {},
   "outputs": [
    {
     "data": {
      "text/html": [
       "<div>\n",
       "<style scoped>\n",
       "    .dataframe tbody tr th:only-of-type {\n",
       "        vertical-align: middle;\n",
       "    }\n",
       "\n",
       "    .dataframe tbody tr th {\n",
       "        vertical-align: top;\n",
       "    }\n",
       "\n",
       "    .dataframe thead th {\n",
       "        text-align: right;\n",
       "    }\n",
       "</style>\n",
       "<table border=\"1\" class=\"dataframe\">\n",
       "  <thead>\n",
       "    <tr style=\"text-align: right;\">\n",
       "      <th></th>\n",
       "      <th>Facility Code</th>\n",
       "      <th>Facility</th>\n",
       "      <th>Headcount</th>\n",
       "      <th>Duration Minutes</th>\n",
       "    </tr>\n",
       "  </thead>\n",
       "  <tbody>\n",
       "    <tr>\n",
       "      <th>0</th>\n",
       "      <td>0</td>\n",
       "      <td>0</td>\n",
       "      <td>100.000000</td>\n",
       "      <td>210</td>\n",
       "    </tr>\n",
       "    <tr>\n",
       "      <th>1</th>\n",
       "      <td>1</td>\n",
       "      <td>1</td>\n",
       "      <td>100.000000</td>\n",
       "      <td>360</td>\n",
       "    </tr>\n",
       "    <tr>\n",
       "      <th>2</th>\n",
       "      <td>1</td>\n",
       "      <td>1</td>\n",
       "      <td>36.387374</td>\n",
       "      <td>55</td>\n",
       "    </tr>\n",
       "    <tr>\n",
       "      <th>3</th>\n",
       "      <td>1</td>\n",
       "      <td>1</td>\n",
       "      <td>36.387374</td>\n",
       "      <td>55</td>\n",
       "    </tr>\n",
       "    <tr>\n",
       "      <th>4</th>\n",
       "      <td>1</td>\n",
       "      <td>1</td>\n",
       "      <td>36.387374</td>\n",
       "      <td>75</td>\n",
       "    </tr>\n",
       "    <tr>\n",
       "      <th>...</th>\n",
       "      <td>...</td>\n",
       "      <td>...</td>\n",
       "      <td>...</td>\n",
       "      <td>...</td>\n",
       "    </tr>\n",
       "    <tr>\n",
       "      <th>123644</th>\n",
       "      <td>39</td>\n",
       "      <td>39</td>\n",
       "      <td>17.949062</td>\n",
       "      <td>300</td>\n",
       "    </tr>\n",
       "    <tr>\n",
       "      <th>123645</th>\n",
       "      <td>22</td>\n",
       "      <td>21</td>\n",
       "      <td>7.000000</td>\n",
       "      <td>55</td>\n",
       "    </tr>\n",
       "    <tr>\n",
       "      <th>123646</th>\n",
       "      <td>22</td>\n",
       "      <td>21</td>\n",
       "      <td>6.000000</td>\n",
       "      <td>55</td>\n",
       "    </tr>\n",
       "    <tr>\n",
       "      <th>123647</th>\n",
       "      <td>22</td>\n",
       "      <td>21</td>\n",
       "      <td>15.000000</td>\n",
       "      <td>45</td>\n",
       "    </tr>\n",
       "    <tr>\n",
       "      <th>123648</th>\n",
       "      <td>74</td>\n",
       "      <td>76</td>\n",
       "      <td>17.949062</td>\n",
       "      <td>360</td>\n",
       "    </tr>\n",
       "  </tbody>\n",
       "</table>\n",
       "<p>123649 rows × 4 columns</p>\n",
       "</div>"
      ],
      "text/plain": [
       "        Facility Code  Facility   Headcount  Duration Minutes\n",
       "0                   0         0  100.000000               210\n",
       "1                   1         1  100.000000               360\n",
       "2                   1         1   36.387374                55\n",
       "3                   1         1   36.387374                55\n",
       "4                   1         1   36.387374                75\n",
       "...               ...       ...         ...               ...\n",
       "123644             39        39   17.949062               300\n",
       "123645             22        21    7.000000                55\n",
       "123646             22        21    6.000000                55\n",
       "123647             22        21   15.000000                45\n",
       "123648             74        76   17.949062               360\n",
       "\n",
       "[123649 rows x 4 columns]"
      ]
     },
     "execution_count": 14,
     "metadata": {},
     "output_type": "execute_result"
    }
   ],
   "source": [
    "New_X = featureSelect_dataframe(x, y, chi2, 4)\n",
    "\n",
    "New_X"
   ]
  },
  {
   "cell_type": "code",
   "execution_count": 15,
   "id": "3ef65575",
   "metadata": {},
   "outputs": [
    {
     "name": "stderr",
     "output_type": "stream",
     "text": [
      "C:\\Users\\rschm\\anaconda3\\lib\\site-packages\\sklearn\\utils\\validation.py:993: DataConversionWarning: A column-vector y was passed when a 1d array was expected. Please change the shape of y to (n_samples, ), for example using ravel().\n",
      "  y = column_or_1d(y, warn=True)\n"
     ]
    },
    {
     "data": {
      "text/html": [
       "<div>\n",
       "<style scoped>\n",
       "    .dataframe tbody tr th:only-of-type {\n",
       "        vertical-align: middle;\n",
       "    }\n",
       "\n",
       "    .dataframe tbody tr th {\n",
       "        vertical-align: top;\n",
       "    }\n",
       "\n",
       "    .dataframe thead th {\n",
       "        text-align: right;\n",
       "    }\n",
       "</style>\n",
       "<table border=\"1\" class=\"dataframe\">\n",
       "  <thead>\n",
       "    <tr style=\"text-align: right;\">\n",
       "      <th></th>\n",
       "      <th>Facility Code</th>\n",
       "      <th>Facility</th>\n",
       "      <th>Headcount</th>\n",
       "      <th>Duration Minutes</th>\n",
       "    </tr>\n",
       "  </thead>\n",
       "  <tbody>\n",
       "    <tr>\n",
       "      <th>0</th>\n",
       "      <td>0</td>\n",
       "      <td>0</td>\n",
       "      <td>100.000000</td>\n",
       "      <td>210</td>\n",
       "    </tr>\n",
       "    <tr>\n",
       "      <th>1</th>\n",
       "      <td>1</td>\n",
       "      <td>1</td>\n",
       "      <td>100.000000</td>\n",
       "      <td>360</td>\n",
       "    </tr>\n",
       "    <tr>\n",
       "      <th>2</th>\n",
       "      <td>1</td>\n",
       "      <td>1</td>\n",
       "      <td>36.387374</td>\n",
       "      <td>55</td>\n",
       "    </tr>\n",
       "    <tr>\n",
       "      <th>3</th>\n",
       "      <td>1</td>\n",
       "      <td>1</td>\n",
       "      <td>36.387374</td>\n",
       "      <td>55</td>\n",
       "    </tr>\n",
       "    <tr>\n",
       "      <th>4</th>\n",
       "      <td>1</td>\n",
       "      <td>1</td>\n",
       "      <td>36.387374</td>\n",
       "      <td>75</td>\n",
       "    </tr>\n",
       "    <tr>\n",
       "      <th>...</th>\n",
       "      <td>...</td>\n",
       "      <td>...</td>\n",
       "      <td>...</td>\n",
       "      <td>...</td>\n",
       "    </tr>\n",
       "    <tr>\n",
       "      <th>123644</th>\n",
       "      <td>39</td>\n",
       "      <td>39</td>\n",
       "      <td>17.949062</td>\n",
       "      <td>300</td>\n",
       "    </tr>\n",
       "    <tr>\n",
       "      <th>123645</th>\n",
       "      <td>22</td>\n",
       "      <td>21</td>\n",
       "      <td>7.000000</td>\n",
       "      <td>55</td>\n",
       "    </tr>\n",
       "    <tr>\n",
       "      <th>123646</th>\n",
       "      <td>22</td>\n",
       "      <td>21</td>\n",
       "      <td>6.000000</td>\n",
       "      <td>55</td>\n",
       "    </tr>\n",
       "    <tr>\n",
       "      <th>123647</th>\n",
       "      <td>22</td>\n",
       "      <td>21</td>\n",
       "      <td>15.000000</td>\n",
       "      <td>45</td>\n",
       "    </tr>\n",
       "    <tr>\n",
       "      <th>123648</th>\n",
       "      <td>74</td>\n",
       "      <td>76</td>\n",
       "      <td>17.949062</td>\n",
       "      <td>360</td>\n",
       "    </tr>\n",
       "  </tbody>\n",
       "</table>\n",
       "<p>123649 rows × 4 columns</p>\n",
       "</div>"
      ],
      "text/plain": [
       "        Facility Code  Facility   Headcount  Duration Minutes\n",
       "0                   0         0  100.000000               210\n",
       "1                   1         1  100.000000               360\n",
       "2                   1         1   36.387374                55\n",
       "3                   1         1   36.387374                55\n",
       "4                   1         1   36.387374                75\n",
       "...               ...       ...         ...               ...\n",
       "123644             39        39   17.949062               300\n",
       "123645             22        21    7.000000                55\n",
       "123646             22        21    6.000000                55\n",
       "123647             22        21   15.000000                45\n",
       "123648             74        76   17.949062               360\n",
       "\n",
       "[123649 rows x 4 columns]"
      ]
     },
     "execution_count": 15,
     "metadata": {},
     "output_type": "execute_result"
    }
   ],
   "source": [
    "New_X = featureSelect_dataframe(x, y, mutual_info_classif, 4)\n",
    "\n",
    "New_X"
   ]
  },
  {
   "cell_type": "code",
   "execution_count": 39,
   "id": "46fd85fb",
   "metadata": {},
   "outputs": [
    {
     "name": "stderr",
     "output_type": "stream",
     "text": [
      "/Users/patrickmoll/opt/anaconda3/lib/python3.9/site-packages/sklearn/utils/validation.py:993: DataConversionWarning: A column-vector y was passed when a 1d array was expected. Please change the shape of y to (n_samples, ), for example using ravel().\n",
      "  y = column_or_1d(y, warn=True)\n"
     ]
    },
    {
     "data": {
      "text/html": [
       "<div>\n",
       "<style scoped>\n",
       "    .dataframe tbody tr th:only-of-type {\n",
       "        vertical-align: middle;\n",
       "    }\n",
       "\n",
       "    .dataframe tbody tr th {\n",
       "        vertical-align: top;\n",
       "    }\n",
       "\n",
       "    .dataframe thead th {\n",
       "        text-align: right;\n",
       "    }\n",
       "</style>\n",
       "<table border=\"1\" class=\"dataframe\">\n",
       "  <thead>\n",
       "    <tr style=\"text-align: right;\">\n",
       "      <th></th>\n",
       "      <th>Facility Code</th>\n",
       "      <th>Facility</th>\n",
       "      <th>Headcount</th>\n",
       "      <th>Duration Minutes</th>\n",
       "    </tr>\n",
       "  </thead>\n",
       "  <tbody>\n",
       "    <tr>\n",
       "      <th>0</th>\n",
       "      <td>0</td>\n",
       "      <td>0</td>\n",
       "      <td>100.000000</td>\n",
       "      <td>210.0</td>\n",
       "    </tr>\n",
       "    <tr>\n",
       "      <th>1</th>\n",
       "      <td>1</td>\n",
       "      <td>1</td>\n",
       "      <td>100.000000</td>\n",
       "      <td>360.0</td>\n",
       "    </tr>\n",
       "    <tr>\n",
       "      <th>2</th>\n",
       "      <td>1</td>\n",
       "      <td>1</td>\n",
       "      <td>36.387374</td>\n",
       "      <td>55.0</td>\n",
       "    </tr>\n",
       "    <tr>\n",
       "      <th>3</th>\n",
       "      <td>1</td>\n",
       "      <td>1</td>\n",
       "      <td>36.387374</td>\n",
       "      <td>55.0</td>\n",
       "    </tr>\n",
       "    <tr>\n",
       "      <th>4</th>\n",
       "      <td>1</td>\n",
       "      <td>1</td>\n",
       "      <td>36.387374</td>\n",
       "      <td>75.0</td>\n",
       "    </tr>\n",
       "    <tr>\n",
       "      <th>...</th>\n",
       "      <td>...</td>\n",
       "      <td>...</td>\n",
       "      <td>...</td>\n",
       "      <td>...</td>\n",
       "    </tr>\n",
       "    <tr>\n",
       "      <th>123644</th>\n",
       "      <td>39</td>\n",
       "      <td>39</td>\n",
       "      <td>17.949062</td>\n",
       "      <td>300.0</td>\n",
       "    </tr>\n",
       "    <tr>\n",
       "      <th>123645</th>\n",
       "      <td>22</td>\n",
       "      <td>21</td>\n",
       "      <td>7.000000</td>\n",
       "      <td>55.0</td>\n",
       "    </tr>\n",
       "    <tr>\n",
       "      <th>123646</th>\n",
       "      <td>22</td>\n",
       "      <td>21</td>\n",
       "      <td>6.000000</td>\n",
       "      <td>55.0</td>\n",
       "    </tr>\n",
       "    <tr>\n",
       "      <th>123647</th>\n",
       "      <td>22</td>\n",
       "      <td>21</td>\n",
       "      <td>15.000000</td>\n",
       "      <td>45.0</td>\n",
       "    </tr>\n",
       "    <tr>\n",
       "      <th>123648</th>\n",
       "      <td>74</td>\n",
       "      <td>76</td>\n",
       "      <td>17.949062</td>\n",
       "      <td>360.0</td>\n",
       "    </tr>\n",
       "  </tbody>\n",
       "</table>\n",
       "<p>123649 rows × 4 columns</p>\n",
       "</div>"
      ],
      "text/plain": [
       "        Facility Code  Facility   Headcount  Duration Minutes\n",
       "0                   0         0  100.000000             210.0\n",
       "1                   1         1  100.000000             360.0\n",
       "2                   1         1   36.387374              55.0\n",
       "3                   1         1   36.387374              55.0\n",
       "4                   1         1   36.387374              75.0\n",
       "...               ...       ...         ...               ...\n",
       "123644             39        39   17.949062             300.0\n",
       "123645             22        21    7.000000              55.0\n",
       "123646             22        21    6.000000              55.0\n",
       "123647             22        21   15.000000              45.0\n",
       "123648             74        76   17.949062             360.0\n",
       "\n",
       "[123649 rows x 4 columns]"
      ]
     },
     "execution_count": 39,
     "metadata": {},
     "output_type": "execute_result"
    }
   ],
   "source": [
    "from sklearn.feature_selection import mutual_info_regression, f_regression\n",
    "New_X = featureSelect_dataframe(x, y, mutual_info_regression, 4)\n",
    "\n",
    "New_X"
   ]
  },
  {
   "cell_type": "code",
   "execution_count": 16,
   "id": "9ed3472e",
   "metadata": {},
   "outputs": [
    {
     "data": {
      "image/png": "[encoded data removed]",
      "text/plain": [
       "<Figure size 432x288 with 2 Axes>"
      ]
     },
     "metadata": {
      "needs_background": "light"
     },
     "output_type": "display_data"
    }
   ],
   "source": [
    "corr_matrix = df.corr()\n",
    "#p_values = corr_matrix.apply(lambda x: x.apply(lambda y: float(\"{:.2f}\".format(y))))\n",
    "\n",
    "from scipy.stats import pearsonr\n",
    "\n",
    "p_values = corr_matrix.copy()\n",
    "\n",
    "for i in corr_matrix.columns:\n",
    "    for j in corr_matrix.columns:\n",
    "        pearson_coef, p_value = pearsonr(df[i], df[j])\n",
    "        p_values.loc[i, j] = p_value\n",
    "# create a heatmap using seaborn\n",
    "sns.heatmap(p_values, cmap='coolwarm', annot=True, fmt='.2f')\n",
    "\n",
    "plt.title('Correlation Heatmap (p-values)')\n",
    "plt.show()"
   ]
  },
  {
   "cell_type": "code",
   "execution_count": 18,
   "id": "0b9e68c1",
   "metadata": {},
   "outputs": [
    {
     "data": {
      "image/png": "[encoded data removed]",
      "text/plain": [
       "<Figure size 432x288 with 2 Axes>"
      ]
     },
     "metadata": {
      "needs_background": "light"
     },
     "output_type": "display_data"
    },
    {
     "data": {
      "text/plain": [
       "<Figure size 432x288 with 0 Axes>"
      ]
     },
     "metadata": {},
     "output_type": "display_data"
    }
   ],
   "source": [
    "sns.heatmap(corr_matrix, cmap='coolwarm', annot=True, fmt='.2f')\n",
    "\n",
    "plt.title('Correlation Heatmap')\n",
    "plt.show()\n",
    "plt.savefig(\"/Users/rschm/Downloads/FeaturesHeatmap.pdf\", format=\"pdf\")"
   ]
  },
  {
   "cell_type": "code",
   "execution_count": 6,
   "id": "75953165",
   "metadata": {},
   "outputs": [
    {
     "name": "stdout",
     "output_type": "stream",
     "text": [
      "R^2 score: 0.02517229614304828\n",
      "Predictions: [141.8273389  148.98334305 156.13934719]\n"
     ]
    }
   ],
   "source": [
    "import pandas as pd\n",
    "from sklearn.linear_model import LinearRegression\n",
    "from sklearn.model_selection import train_test_split\n",
    "\n",
    "# Read the CSV file\n",
    "data = pd.read_csv('/Users/rschm/Downloads/DateTimeCleanedReservationsAll.csv')\n",
    "\n",
    "# Prepare the data\n",
    "X = data[['Headcount']]\n",
    "y = data['Duration Minutes']\n",
    "X_train, X_test, y_train, y_test = train_test_split(X, y, test_size=0.2, random_state=42)\n",
    "\n",
    "# Create the linear regression model\n",
    "model = LinearRegression()\n",
    "\n",
    "# Train the model\n",
    "model.fit(X_train, y_train)\n",
    "\n",
    "# Evaluate the model\n",
    "score = model.score(X_test, y_test)\n",
    "print('R^2 score:', score)\n",
    "\n",
    "# Make predictions\n",
    "new_data = pd.DataFrame({'Headcount': [50, 75, 100]})\n",
    "predictions = model.predict(new_data)\n",
    "print('Predictions:', predictions)\n"
   ]
  },
  {
   "cell_type": "markdown",
   "id": "43f80966",
   "metadata": {},
   "source": [
    "# RFE"
   ]
  },
  {
   "cell_type": "code",
   "execution_count": 21,
   "id": "b62ce072",
   "metadata": {},
   "outputs": [
    {
     "name": "stdout",
     "output_type": "stream",
     "text": [
      "Fitting estimator with 13 features.\n",
      "Selected features: Index(['Facility Class', 'Facility Location', 'Facility Code', 'Status',\n",
      "       'Reservation Type', 'Headcount', 'BeginTimeDate', 'EndTimeDate',\n",
      "       'Weekday', 'Month', 'Year', 'BeginTime'],\n",
      "      dtype='object')\n",
      "Coefficients:\n",
      "               feature  coefficient\n",
      "4    Reservation Type   112.162612\n",
      "1   Facility Location    13.301805\n",
      "10               Year     3.868163\n",
      "8             Weekday     3.201413\n",
      "9               Month     1.283905\n",
      "6       BeginTimeDate     0.488590\n",
      "5           Headcount     0.207653\n",
      "7         EndTimeDate    -0.404219\n",
      "2       Facility Code    -1.550919\n",
      "0      Facility Class    -6.768100\n",
      "11          BeginTime   -13.300030\n",
      "3              Status   -15.409589\n"
     ]
    }
   ],
   "source": [
    "import pandas as pd\n",
    "from sklearn.feature_selection import RFE\n",
    "from sklearn.linear_model import LinearRegression\n",
    "from sklearn.preprocessing import LabelEncoder\n",
    "\n",
    "# Load the data into a pandas DataFrame\n",
    "df = pd.read_csv('/Users/rschm/Downloads/DateTimeCleanedReservationsAll.csv')\n",
    "\n",
    "# Convert non-numeric columns to numeric using label encoding\n",
    "for column in df.columns:\n",
    "    if df[column].dtype == 'object':\n",
    "        le = LabelEncoder()\n",
    "        df[column] = le.fit_transform(df[column])\n",
    "\n",
    "# Separate the independent and dependent variables\n",
    "X = df.drop(['Duration Minutes'], axis=1)\n",
    "y = df['Duration Minutes']\n",
    "\n",
    "# Create a linear regression object\n",
    "lr = LinearRegression()\n",
    "\n",
    "# Create the RFE object and select the top 5 features\n",
    "rfe = RFE(lr, n_features_to_select=12, verbose=1)\n",
    "rfe.fit(X, y)\n",
    "\n",
    "# Print the selected features\n",
    "selected_features = X.columns[rfe.support_]\n",
    "print('Selected features:', selected_features)\n",
    "\n",
    "# Train a linear regression model using the selected features\n",
    "X_selected = X[selected_features]\n",
    "lr.fit(X_selected, y)\n",
    "\n",
    "# Print the coefficients for each feature\n",
    "coefficients = pd.DataFrame({'feature': X_selected.columns, 'coefficient': lr.coef_})\n",
    "coefficients = coefficients.sort_values(by='coefficient', ascending=False)\n",
    "print('Coefficients:\\n', coefficients)\n"
   ]
  },
  {
   "cell_type": "markdown",
   "id": "a17668a5",
   "metadata": {},
   "source": [
    "# SelectKBest"
   ]
  },
  {
   "cell_type": "code",
   "execution_count": 14,
   "id": "66f81594",
   "metadata": {},
   "outputs": [
    {
     "name": "stdout",
     "output_type": "stream",
     "text": [
      "Facility Class: score=9192.45, p-value=0.00e+00\n",
      "Facility Location: score=7591.27, p-value=0.00e+00\n",
      "Facility Code: score=106721.58, p-value=0.00e+00\n",
      "Facility: score=111016.68, p-value=0.00e+00\n",
      "Status: score=29114.73, p-value=0.00e+00\n",
      "Reservation Type: score=30511.31, p-value=0.00e+00\n",
      "Headcount: score=2555552.76, p-value=0.00e+00\n",
      "BeginTimeDate: score=26160431.56, p-value=0.00e+00\n",
      "EndTimeDate: score=31732448.13, p-value=0.00e+00\n",
      "Weekday: score=14726.11, p-value=0.00e+00\n",
      "Month: score=3163.94, p-value=0.00e+00\n",
      "Year: score=26.88, p-value=1.00e+00\n",
      "BeginTime: score=56960.74, p-value=0.00e+00\n"
     ]
    }
   ],
   "source": [
    "import pandas as pd\n",
    "from sklearn.feature_selection import SelectKBest, chi2\n",
    "from sklearn.preprocessing import LabelEncoder\n",
    "\n",
    "# Load the data\n",
    "df = pd.read_csv('/Users/rschm/Downloads/DateTimeCleanedReservationsAll.csv')\n",
    "\n",
    "# Convert non-numeric columns to numeric using label encoding\n",
    "for column in df.columns:\n",
    "    if df[column].dtype == 'object':\n",
    "        le = LabelEncoder()\n",
    "        df[column] = le.fit_transform(df[column])\n",
    "\n",
    "# Separate the features (X) and the target variable (y)\n",
    "X = df.drop('Duration Minutes', axis=1)\n",
    "y = df['Duration Minutes']\n",
    "\n",
    "# Select the top 5 features using SelectKBest and chi-squared test\n",
    "selector = SelectKBest(chi2, k=5)\n",
    "X_new = selector.fit_transform(X, y)\n",
    "\n",
    "# Print the feature scores and p-values for all features\n",
    "scores = selector.scores_\n",
    "pvalues = selector.pvalues_\n",
    "for i in range(len(X.columns)):\n",
    "    print(f\"{X.columns[i]}: score={scores[i]:.2f}, p-value={pvalues[i]:.2e}\")\n"
   ]
  },
  {
   "cell_type": "markdown",
   "id": "d7e45b1b",
   "metadata": {},
   "source": [
    "# Lasso Regression"
   ]
  },
  {
   "cell_type": "code",
   "execution_count": 14,
   "id": "4a25fcb1",
   "metadata": {
    "scrolled": true
   },
   "outputs": [
    {
     "name": "stdout",
     "output_type": "stream",
     "text": [
      "Coefficients:\n",
      " Facility Class       -18.291887\n",
      "Facility Location     20.327531\n",
      "Facility Code        -31.800556\n",
      "Facility              -0.000000\n",
      "Status               -14.521175\n",
      "Reservation Type      55.489970\n",
      "Headcount             20.586215\n",
      "BeginTimeDate        417.670074\n",
      "EndTimeDate         -415.012049\n",
      "Weekday                4.915956\n",
      "Month                  1.618821\n",
      "Year                  10.768346\n",
      "BeginTime            -59.653430\n",
      "dtype: float64\n",
      "\n",
      "Intercept: 140.09442049672873\n"
     ]
    },
    {
     "name": "stderr",
     "output_type": "stream",
     "text": [
      "C:\\Users\\rschm\\anaconda3\\lib\\site-packages\\sklearn\\linear_model\\_coordinate_descent.py:647: ConvergenceWarning: Objective did not converge. You might want to increase the number of iterations, check the scale of the features or consider increasing regularisation. Duality gap: 1.572e+09, tolerance: 6.260e+05\n",
      "  model = cd_fast.enet_coordinate_descent(\n"
     ]
    }
   ],
   "source": [
    "import pandas as pd\n",
    "from sklearn.linear_model import Lasso\n",
    "from sklearn.preprocessing import StandardScaler\n",
    "\n",
    "# Load the data from CSV file\n",
    "df = pd.read_csv('/Users/rschm/Downloads/DateTimeCleanedReservationsAll.csv')\n",
    "\n",
    "# Convert non-numeric columns to numeric using label encoding\n",
    "for column in df.columns:\n",
    "    if df[column].dtype == 'object':\n",
    "        le = LabelEncoder()\n",
    "        df[column] = le.fit_transform(df[column])\n",
    "\n",
    "# Separate the features (X) and target (y)\n",
    "X = df.drop(['Duration Minutes'], axis=1)\n",
    "y = df['Duration Minutes']\n",
    "\n",
    "# Scale the features using StandardScaler\n",
    "scaler = StandardScaler()\n",
    "X_scaled = scaler.fit_transform(X)\n",
    "\n",
    "# Perform Lasso regression with alpha=0.1\n",
    "lasso = Lasso(alpha=0.1)\n",
    "lasso.fit(X_scaled, y)\n",
    "\n",
    "# Print the coefficients of the features\n",
    "coefficients = pd.Series(lasso.coef_, index=X.columns)\n",
    "print(\"Coefficients:\\n\", coefficients)\n",
    "\n",
    "# Print the intercept\n",
    "print(\"\\nIntercept:\", lasso.intercept_)\n"
   ]
  },
  {
   "cell_type": "markdown",
   "id": "1e0070ea",
   "metadata": {},
   "source": [
    "# Tree-based Methods"
   ]
  },
  {
   "cell_type": "code",
   "execution_count": 6,
   "id": "9659f145",
   "metadata": {},
   "outputs": [
    {
     "name": "stdout",
     "output_type": "stream",
     "text": [
      "Top 5 features:\n",
      "BeginTime: 0.3478\n",
      "Facility: 0.1600\n",
      "Headcount: 0.1041\n",
      "Reservation Type: 0.0837\n",
      "Facility Class: 0.0650\n",
      "Facility Code: 0.0608\n",
      "Facility Location: 0.0514\n",
      "Weekday: 0.0389\n"
     ]
    }
   ],
   "source": [
    "import pandas as pd\n",
    "from sklearn.ensemble import RandomForestRegressor\n",
    "from sklearn.preprocessing import LabelEncoder\n",
    "\n",
    "# Load the data from the CSV file\n",
    "df = pd.read_csv(\"/Users/rschm/Downloads/DateTimeCleanedReservationsAll.csv\")\n",
    "\n",
    "# Convert non-numeric columns to numeric using label encoding\n",
    "for column in df.columns:\n",
    "    if df[column].dtype == 'object':\n",
    "        le = LabelEncoder()\n",
    "        df[column] = le.fit_transform(df[column])\n",
    "\n",
    "# Separate the independent and dependent variables\n",
    "X = df.drop(columns=['Duration Minutes'])\n",
    "y = df['Duration Minutes']\n",
    "\n",
    "# Initialize a random forest regressor\n",
    "rf = RandomForestRegressor()\n",
    "\n",
    "# Fit the random forest model to the data\n",
    "rf.fit(X, y)\n",
    "\n",
    "# Get the feature importances from the trained model\n",
    "feature_importances = rf.feature_importances_\n",
    "\n",
    "# Sort the feature importances in descending order\n",
    "sorted_idx = feature_importances.argsort()[::-1]\n",
    "\n",
    "# Print the top 5 features and their importance scores\n",
    "print(\"Top 5 features:\")\n",
    "for i in range(8):\n",
    "    print(f\"{X.columns[sorted_idx[i]]}: {feature_importances[sorted_idx[i]]:.4f}\")\n"
   ]
  },
  {
   "cell_type": "markdown",
   "id": "f356a540",
   "metadata": {},
   "source": [
    "# Chi-squared Test"
   ]
  },
  {
   "cell_type": "code",
   "execution_count": 7,
   "id": "d64a08dd",
   "metadata": {},
   "outputs": [
    {
     "name": "stdout",
     "output_type": "stream",
     "text": [
      "The top 5 most important features are: Index(['Facility Code', 'Facility', 'Headcount', 'BeginTimeDate',\n",
      "       'EndTimeDate'],\n",
      "      dtype='object')\n"
     ]
    }
   ],
   "source": [
    "import pandas as pd\n",
    "from sklearn.feature_selection import SelectKBest\n",
    "from sklearn.feature_selection import chi2\n",
    "from sklearn.preprocessing import LabelEncoder\n",
    "\n",
    "# Load the CSV file into a pandas DataFrame\n",
    "data = pd.read_csv('/Users/rschm/Downloads/DateTimeCleanedReservationsAll.csv')\n",
    "\n",
    "# Convert non-numeric columns to numeric using label encoding\n",
    "for column in data.columns:\n",
    "    if data[column].dtype == 'object':\n",
    "        le = LabelEncoder()\n",
    "        data[column] = le.fit_transform(data[column])\n",
    "\n",
    "# Split the data into features (X) and target (y)\n",
    "X = data.drop('Duration Minutes', axis=1)  # Replace 'target_column' with the name of your target column\n",
    "y = data['Duration Minutes']\n",
    "\n",
    "# Perform the chi-squared test to select the top 5 most important features\n",
    "best_features = SelectKBest(score_func=chi2, k=5).fit(X, y)\n",
    "\n",
    "# Get the indices of the top 5 most important features\n",
    "top_feature_indices = best_features.get_support(indices=True)\n",
    "\n",
    "# Get the names of the top 5 most important features\n",
    "top_feature_names = X.columns[top_feature_indices]\n",
    "\n",
    "print('The top 5 most important features are:', top_feature_names)\n"
   ]
  },
  {
   "cell_type": "code",
   "execution_count": null,
   "id": "8dc0f906",
   "metadata": {},
   "outputs": [],
   "source": []
  },
  {
   "cell_type": "code",
   "execution_count": null,
   "id": "c6ab0f90",
   "metadata": {},
   "outputs": [],
   "source": []
  }
 ],
 "metadata": {
  "kernelspec": {
   "display_name": "Python 3 (ipykernel)",
   "language": "python",
   "name": "python3"
  },
  "language_info": {
   "codemirror_mode": {
    "name": "ipython",
    "version": 3
   },
   "file_extension": ".py",
   "mimetype": "text/x-python",
   "name": "python",
   "nbconvert_exporter": "python",
   "pygments_lexer": "ipython3",
   "version": "3.9.12"
  }
 },
 "nbformat": 4,
 "nbformat_minor": 5
}
